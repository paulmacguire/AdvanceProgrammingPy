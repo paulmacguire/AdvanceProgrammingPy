{
 "cells": [
  {
   "cell_type": "markdown",
   "metadata": {
    "slideshow": {
     "slide_type": "slide"
    }
   },
   "source": [
    "# ⚠️ Antes de comenzar ⚠️\n",
    "### Estimado alumno, esta ayudantía, como casi el resto del semestre utilizarán interfaces gráficas para su desarrollo. Por lo tanto, es necesario la instalación y posterior importación de la librería `PyQt5` en python, si usted no ha instalado esta librería, hágalo cuanto antes mediante las indicaciones en la [wiki del curso](https://iic2233.ing.puc.cl/wiki). \n",
    "*En caso de problemas consulte a su ayudante más cercano.*"
   ]
  },
  {
   "cell_type": "markdown",
   "metadata": {
    "slideshow": {
     "slide_type": "-"
    }
   },
   "source": [
    "# Ayudantía 05: Interfaces Gráficas I\n",
    "\n",
    "\n",
    "## Autores: [@ignaciovial01](https://github.com/ignaciovial01) & [@Cristi512](https://github.com/Cristi512)"
   ]
  },
  {
   "cell_type": "markdown",
   "metadata": {
    "slideshow": {
     "slide_type": "subslide"
    }
   },
   "source": [
    "## Repaso"
   ]
  },
  {
   "cell_type": "markdown",
   "metadata": {},
   "source": [
    "### Interfaces Gráficas\n",
    "\n",
    "\n",
    "Las interfaces gráficas son todos aquellos elementos visuales que nos permiten interactuar con un *software* sin la necesidad de acceder a comandos de código, sino que utilizando elementos gráficos. El desencadenamiento de acciones producto de nuestra interacción, se produce por **eventos**.\n",
    "\n",
    "**Eventos**\n",
    "\n",
    "Desencadenamiento de acciones solo cuando un evento ha ocurrido.<br/>\n",
    "Ej:\n",
    "* Click en `elemento_1`\n",
    "* Cerrar ventana\n",
    "* Click en `elemento_2`\n",
    "\n",
    "Para esta arquitectura se define como reaccionará el programa cada vez que un evento ocurra, los cuales puden ser manejados de forma asíncrona, es decir, cada uno de forma independiente al programa principal *(threads)*.\n",
    "\n",
    "Para definir como se comporta cada evento, se defininen **manejadores o *handlers* .** Los cuales se accionan cada vez que un evento ocurra.\n",
    "\n",
    "* Click en `elemento_1` $\\Large\\rightarrow$ `accion_1()` $\\Large\\rightarrow$ Abre nueva ventana\n",
    "\n",
    "\n",
    "* Cerrar ventana        $\\Large\\rightarrow$ `accion_2()` $\\Large\\rightarrow$ Termina procesos\n",
    "\n",
    "\n",
    "* Click en `elemento_2`$\\Large\\rightarrow$ `accion_3()` $\\Large\\rightarrow$ Comprobar información"
   ]
  },
  {
   "cell_type": "markdown",
   "metadata": {},
   "source": [
    "### Arquitectura *Front-end* y *Back-end*\n",
    "\n",
    "* **Front-end:** Se puede definir como todo lo relacionado con la interfáz gráfica, que es además con lo cual interactúa el usuario. Este solo muestra lo que se le indique y le avisa al *back-end* que ha hecho el usuario.\n",
    "\n",
    "* **Back-end:** Es todo lo relacionado al procesamiento de los datos y la lógita detrás de la interfáz gráfica. Procesa información que el *front-end* le entrega y determina que hacer al respecto. Le ordena al *front-end* que mostarle al usuario.\n",
    "\n",
    "Esta arquitectura busca una **alta cohesión** y **bajo acoplamiento** en un programa. O sea, una **alta especificidad** y una **alta independencia** de las partes."
   ]
  },
  {
   "cell_type": "markdown",
   "metadata": {},
   "source": [
    "### PyQt5\n",
    "\n",
    "\n",
    "**Módulos:**\n",
    "\n",
    "* `QtWidgets`: Contine la gran mayoría de los elementos gráficos a utilizar. Algunos de ellos son:\n",
    "    * `QApplication`: Es la clase principal de las interfaces, la cual es necesario siempre instanciar para poder generar la interfaz.\n",
    "    * `QWidget`: Es la clase base para todos los demás widgets, la cual representa una ventana en la pantalla.\n",
    "    * `QLabel`: Es el widget que permite mostrar texto e imagenes.\n",
    "    * `QLineEdit`: Este widget sirve para obtener una entrada de texto de una linea.\n",
    "    * `QPushButton`: Solo un botón.\n",
    "    * `QPlainTextEdit`: Este widget sirve para obtener una entrada de texto con saltos de linea.\n",
    "    * `QVBoxLayout`, `QHBoxLayout`, `QGridLayout`: Estos widgets son contenedores de widgets para mostrarlos de forma vertical, horizontal o como grilla ordenados.\n",
    "    \n",
    "\n",
    "* `QtGui`: Contiene algunos elemenos gráficos útiles para una interfáz.\n",
    "    * `QPixmap`: Es una clase que permite cargar imagenes.\n",
    "    \n",
    "\n",
    "* `QtCore`: Contiene algunos elemenos de Qt que sirven para el manejo de las interfaces.\n",
    "    * `QtObject`: Es una de las clases bases de PyQt, es decir, todos los elementos son QtObjects. Esta clase es necesaria, ya que nos permite crear señales (`pyqtSignal`), las cuales **solo pueden ser creadas en clases de este tipo.** \n",
    "    * `pyqtSignal`: Esta son las señales de PyQt, las cueles reciben un atributo opcional que indica la clase del objeto que transportarán, es importante indicar que clase estarán transportando.\n",
    "\n",
    "---\n",
    "**Como se deben importar estos elementos:**\n",
    "\n",
    "```python\n",
    "from PyQt5.QtWidgets import (QApplication, QWidget, QLabel)\n",
    "from PyQt5.QtGui import (QPixmap)\n",
    "from PyQt5.QtCore import (QtObject, pyqtSignal)\n",
    "```\n",
    "\n",
    "---\n",
    "**Eventos y señales:**\n",
    "\n",
    "Las señales se crean para poder manejar que sucede cuando un evento ocurra. Por ejmeplo aquí se crea la señal `senal`, la cual transportará un objeto de clase `alguna_clase`.\n",
    "\n",
    "```python\n",
    "class Clase(QObject):\n",
    "    senal = pyqtSignal(alguna_clase)\n",
    "    ...\n",
    "\n",
    "obj_clase = Clase()  # Se define un objeto de clase 'Clase'\n",
    "```\n",
    "\n",
    "Esta señal debe ser conectada a una funciona manejadora, por ejemplo:\n",
    "```python\n",
    "    def manejador(self, informacion):\n",
    "        ...\n",
    "```\n",
    "\n",
    "La señal se conecta mediante el método `connect(funcion_manejadora)`, el cual recibe la función manejadora.\n",
    "\n",
    "```python\n",
    "obj_clase.senal.connect(manejador)\n",
    "```\n",
    "\n",
    "Ahora, cuando un evento ocurra, se puede accionar la señal mediante el método `emit(obj)`, la cual recibe un objeto opcional. En caso de que no se quiera recibir un objeto, al crear la señal no debemos ingresar una clase, de lo contrario, se está obligado a enviar **un objeto de esa clase**.\n",
    "\n",
    "Ej, si ocurre un evento:\n",
    "```python\n",
    "obj_clase.senal.emit(obj_alguna_clase)\n",
    "```\n",
    "y ese objeto llegará al argumento `información` del manejador."
   ]
  },
  {
   "cell_type": "markdown",
   "metadata": {
    "slideshow": {
     "slide_type": "-"
    }
   },
   "source": [
    "## Actividad\n",
    "\n",
    "\n",
    "<img src=\"Data/logo.png\">"
   ]
  },
  {
   "cell_type": "markdown",
   "metadata": {
    "slideshow": {
     "slide_type": "-"
    }
   },
   "source": [
    "DCCorreo es una plataforma sencilla para el envío de emails al interior del curso IIC2233, para su ejecución te entregamos los siguientes archivo:\n",
    "* `Data/mails.csv`: Una base de datos con todos los mails relativos al curso.\n",
    "* `Data/actions.csv`: Una base de datos con todos los mails enviados dentro del curso.\n",
    "* `Data/logo.png`: Una imagen `png` con el logo del programa (se verá bonito).\n",
    "* `systems.py`:Un archivo python que permite manejar todas las interacciones dentro del sistema de correos.\n",
    "* `windows.py`: Un archivo python que construye las interfaces para la vizualización del sistema.\n",
    "* `main.py`: Un archivo intermedio para crear el link entre ambos sistemas."
   ]
  },
  {
   "cell_type": "markdown",
   "metadata": {
    "slideshow": {
     "slide_type": "-"
    }
   },
   "source": [
    "El sistema del DCCorreo viene dado por el funcionamiento de la clase `Mailer` que crearon *\"Los antiguos\"* del **DCC *(Departamento de Ciencia de la computación)***, por lo tanto, este fue diseñado para funcionar directamente por comandos de consola sin necesidad de una interfáz.\n",
    "\n",
    "Este funcionamiento viene dado por el método:\n",
    "\n",
    "* `send_mail(sender, receiver, subject, content)`: La cual se encarga de \"enviar\" el correo.<br/>\n",
    "Esta función retorna una tupla con un código de error `int`, el cual puede ser `200` si el correo fue enviado exitosamente y `400` o`404` si no se pudo enviar, además de un mensaje acorde al estado del envío.\n",
    "\n",
    "Tu trabajo es poder implementar una interfáz gráfica para el envío de mails al interior del IIC2233, ya que las nuevas generaciones sabemos que es mucho más cómodo de esta forma.\n",
    "\n",
    "No obstante, como aún tenemos profesores que programaron con tarjetas perforadas, este sistema debe permanecer intacto permitiendo el envío de mails directamente por el método.\n",
    "\n",
    "**Por lo tanto, ustedes deben agregar los métodos o funciones necesarios para adpatar la interfáz a este sistema, junto a la implementación de la(s) señal(es) necesaria(s) dentro de la clase para el manejo de la interfáz.**\n",
    "\n",
    "---\n",
    "\n",
    "Por otro lado, en el archivo `windows.py` **deben completar la clase** `MailWindow` **con los elementos, métodos y señales necesarias para que el programa funcione correctamente.**\n",
    "\n",
    "---\n",
    "\n",
    "Y luego **conectar las señales con su manejador correspondiente en el archivo `main.py`**, el cual además es el archivo que se ejecutará para que el sistema funcione."
   ]
  }
 ],
 "metadata": {
  "celltoolbar": "Slideshow",
  "kernelspec": {
   "display_name": "Python 3",
   "language": "python",
   "name": "python3"
  },
  "language_info": {
   "codemirror_mode": {
    "name": "ipython",
    "version": 3
   },
   "file_extension": ".py",
   "mimetype": "text/x-python",
   "name": "python",
   "nbconvert_exporter": "python",
   "pygments_lexer": "ipython3",
   "version": "3.7.4"
  }
 },
 "nbformat": 4,
 "nbformat_minor": 4
}
